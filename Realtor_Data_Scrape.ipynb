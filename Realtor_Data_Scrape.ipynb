{
 "cells": [
  {
   "cell_type": "code",
   "execution_count": 119,
   "metadata": {},
   "outputs": [],
   "source": [
    "## this Block of code is for getting nearby properties from realtor.com\n",
    "# it uses the requests library to make a GET request to the realtor.com API\n",
    "# and retrieves properties based on latitude and longitude coordinates.\n",
    "# the response is in JSON format and is printed to the console\n",
    "# the code uses the requests library to make HTTP requests\n",
    "# the json library is used to parse the response\n",
    "# Api key is stored in an environment variable for security\n",
    "import requests\n",
    "import json\n",
    "import pandas as pd\n",
    "import os \n",
    "url = \"https://realtor-com4.p.rapidapi.com/properties/get-nearby\"\n",
    "\n",
    "api_key = os.getenv('API_KEY')\n",
    "querystring = {\"lat\":\"40.78756\",\"lon\":\"-73.969246\", \"limit\":\"100\"}\n",
    "\n",
    "headers = {\n",
    "\t\"x-rapidapi-key\": api_key, \n",
    "\t\"x-rapidapi-host\": \"realtor-com4.p.rapidapi.com\"\n",
    "}\n",
    "\n",
    "response = requests.get(url, headers=headers, params=querystring)\n",
    "\n",
    "#print(response.json())\n",
    "\n"
   ]
  },
  {
   "cell_type": "code",
   "execution_count": 120,
   "metadata": {},
   "outputs": [],
   "source": [
    "# the response is in JSON format\n",
    "# AND it is parsed to extract the 'data' field AND the 'home_search' field\n",
    "# the data is then printed to the console\n",
    "\n",
    "JSONContent = response.json()\n",
    "#print(JSONContent['data']['home_search'])\n"
   ]
  },
  {
   "cell_type": "code",
   "execution_count": 121,
   "metadata": {},
   "outputs": [
    {
     "name": "stdout",
     "output_type": "stream",
     "text": [
      "<class 'pandas.core.frame.DataFrame'>\n",
      "RangeIndex: 100 entries, 0 to 99\n",
      "Data columns (total 23 columns):\n",
      " #   Column                          Non-Null Count  Dtype  \n",
      "---  ------                          --------------  -----  \n",
      " 0   __typename                      100 non-null    object \n",
      " 1   current_estimates               100 non-null    object \n",
      " 2   href                            100 non-null    object \n",
      " 3   list_price                      100 non-null    int64  \n",
      " 4   listing_id                      100 non-null    object \n",
      " 5   permalink                       100 non-null    object \n",
      " 6   property_id                     100 non-null    object \n",
      " 7   status                          100 non-null    object \n",
      " 8   description.__typename          100 non-null    object \n",
      " 9   description.baths               100 non-null    int64  \n",
      " 10  description.baths_consolidated  99 non-null     object \n",
      " 11  description.baths_full          99 non-null     float64\n",
      " 12  description.baths_half          31 non-null     float64\n",
      " 13  description.beds                100 non-null    int64  \n",
      " 14  description.lot_sqft            20 non-null     float64\n",
      " 15  description.sqft                42 non-null     float64\n",
      " 16  location.__typename             100 non-null    object \n",
      " 17  location.address.__typename     100 non-null    object \n",
      " 18  location.address.city           100 non-null    object \n",
      " 19  location.address.line           100 non-null    object \n",
      " 20  location.address.postal_code    100 non-null    object \n",
      " 21  location.address.state_code     100 non-null    object \n",
      " 22  count                           100 non-null    object \n",
      "dtypes: float64(4), int64(3), object(16)\n",
      "memory usage: 18.1+ KB\n",
      "<class 'pandas.core.frame.DataFrame'>\n",
      "RangeIndex: 157 entries, 0 to 156\n",
      "Data columns (total 5 columns):\n",
      " #   Column            Non-Null Count  Dtype \n",
      "---  ------            --------------  ----- \n",
      " 0   __typename        157 non-null    object\n",
      " 1   date              157 non-null    object\n",
      " 2   estimate          157 non-null    int64 \n",
      " 3   isbest_homevalue  157 non-null    bool  \n",
      " 4   property_id       157 non-null    object\n",
      "dtypes: bool(1), int64(1), object(3)\n",
      "memory usage: 5.2+ KB\n"
     ]
    }
   ],
   "source": [
    "# the data is then converted to a into two pandas DataFrame objects \n",
    "# the 'results' field is used as the record path for the first DataFrame\n",
    "# the 'current_estimates' field is used as the record path for the second DataFrame\n",
    "\n",
    "\n",
    "df = pd.json_normalize(JSONContent['data']['home_search'],record_path=['results'],meta=['count'], errors='ignore')\n",
    "current_estiamtes = pd.json_normalize(JSONContent['data']['home_search']['results'],'current_estimates',['property_id'])\n",
    "df.info()\n",
    "current_estiamtes.info()"
   ]
  },
  {
   "cell_type": "code",
   "execution_count": 122,
   "metadata": {},
   "outputs": [
    {
     "name": "stdout",
     "output_type": "stream",
     "text": [
      "(100, 23)\n"
     ]
    }
   ],
   "source": [
    "print(df.shape)"
   ]
  },
  {
   "cell_type": "code",
   "execution_count": 123,
   "metadata": {},
   "outputs": [
    {
     "name": "stdout",
     "output_type": "stream",
     "text": [
      "<class 'pandas.core.frame.DataFrame'>\n",
      "Index: 63 entries, 131 to 10\n",
      "Data columns (total 4 columns):\n",
      " #   Column            Non-Null Count  Dtype         \n",
      "---  ------            --------------  -----         \n",
      " 0   date              63 non-null     datetime64[ns]\n",
      " 1   estimate          63 non-null     int64         \n",
      " 2   isbest_homevalue  63 non-null     bool          \n",
      " 3   property_id       63 non-null     object        \n",
      "dtypes: bool(1), datetime64[ns](1), int64(1), object(1)\n",
      "memory usage: 2.0+ KB\n"
     ]
    }
   ],
   "source": [
    "# then data type for date is set to datetime category\n",
    "# and then the data is grouped by property_id and the maximum date is selected\n",
    "# the _typename column is dropped from the DataFrame\n",
    "current_estiamtes['date'] = pd.to_datetime(current_estiamtes['date'])\n",
    "current_estiamtes_max_date = current_estiamtes.loc[current_estiamtes.groupby('property_id')['date'].idxmax()]\n",
    "current_estiamtes_max_date = current_estiamtes_max_date.drop(columns= ['__typename'])\n",
    "current_estiamtes.head()\n",
    "current_estiamtes_max_date.info()"
   ]
  },
  {
   "cell_type": "code",
   "execution_count": 124,
   "metadata": {},
   "outputs": [
    {
     "name": "stdout",
     "output_type": "stream",
     "text": [
      "(100, 19)\n"
     ]
    }
   ],
   "source": [
    "# the data is then merged with the first DataFrame using the property_id column\n",
    "# Several unnecessary columns are dropped from the DataFrame\n",
    "# and the final DataFrame is printed to the console \n",
    "description_listing = df.drop(columns=['__typename','description.__typename','location.__typename','location.address.__typename','count','current_estimates','permalink'])\n",
    "description_listing = description_listing.merge(current_estiamtes_max_date, on='property_id', how='left')\n",
    "description_listing.head(5)\n",
    "print(description_listing.shape)\n"
   ]
  },
  {
   "cell_type": "code",
   "execution_count": 125,
   "metadata": {},
   "outputs": [
    {
     "data": {
      "text/html": [
       "<div>\n",
       "<style scoped>\n",
       "    .dataframe tbody tr th:only-of-type {\n",
       "        vertical-align: middle;\n",
       "    }\n",
       "\n",
       "    .dataframe tbody tr th {\n",
       "        vertical-align: top;\n",
       "    }\n",
       "\n",
       "    .dataframe thead th {\n",
       "        text-align: right;\n",
       "    }\n",
       "</style>\n",
       "<table border=\"1\" class=\"dataframe\">\n",
       "  <thead>\n",
       "    <tr style=\"text-align: right;\">\n",
       "      <th></th>\n",
       "      <th>url</th>\n",
       "      <th>list_price</th>\n",
       "      <th>listing_id</th>\n",
       "      <th>property_id</th>\n",
       "      <th>status</th>\n",
       "      <th>baths</th>\n",
       "      <th>baths_consolidated</th>\n",
       "      <th>baths_full</th>\n",
       "      <th>baths_half</th>\n",
       "      <th>beds</th>\n",
       "      <th>lot_sqft</th>\n",
       "      <th>sqft</th>\n",
       "      <th>city</th>\n",
       "      <th>street</th>\n",
       "      <th>postal_code</th>\n",
       "      <th>state</th>\n",
       "      <th>estimate_date</th>\n",
       "      <th>estimate_property_value</th>\n",
       "      <th>isbest_homevalue</th>\n",
       "    </tr>\n",
       "  </thead>\n",
       "  <tbody>\n",
       "    <tr>\n",
       "      <th>0</th>\n",
       "      <td>https://www.realtor.com/realestateandhomes-det...</td>\n",
       "      <td>1999999</td>\n",
       "      <td>2977443152</td>\n",
       "      <td>3501051119</td>\n",
       "      <td>for_sale</td>\n",
       "      <td>2</td>\n",
       "      <td>2</td>\n",
       "      <td>2.0</td>\n",
       "      <td>NaN</td>\n",
       "      <td>2</td>\n",
       "      <td>NaN</td>\n",
       "      <td>1160.0</td>\n",
       "      <td>New York</td>\n",
       "      <td>45 E 89th St Apt 7D</td>\n",
       "      <td>10128</td>\n",
       "      <td>NY</td>\n",
       "      <td>2025-05-05</td>\n",
       "      <td>1572400.0</td>\n",
       "      <td>True</td>\n",
       "    </tr>\n",
       "    <tr>\n",
       "      <th>1</th>\n",
       "      <td>https://www.realtor.com/realestateandhomes-det...</td>\n",
       "      <td>2795000</td>\n",
       "      <td>2980324265</td>\n",
       "      <td>4113094547</td>\n",
       "      <td>for_sale</td>\n",
       "      <td>2</td>\n",
       "      <td>2</td>\n",
       "      <td>2.0</td>\n",
       "      <td>NaN</td>\n",
       "      <td>2</td>\n",
       "      <td>50250.0</td>\n",
       "      <td>NaN</td>\n",
       "      <td>Manhattan</td>\n",
       "      <td>45 E 89th St Apt 22C</td>\n",
       "      <td>10128</td>\n",
       "      <td>NY</td>\n",
       "      <td>2025-05-05</td>\n",
       "      <td>1694300.0</td>\n",
       "      <td>True</td>\n",
       "    </tr>\n",
       "    <tr>\n",
       "      <th>2</th>\n",
       "      <td>https://www.realtor.com/realestateandhomes-det...</td>\n",
       "      <td>2695000</td>\n",
       "      <td>2981727358</td>\n",
       "      <td>4665385261</td>\n",
       "      <td>for_sale</td>\n",
       "      <td>2</td>\n",
       "      <td>2</td>\n",
       "      <td>2.0</td>\n",
       "      <td>NaN</td>\n",
       "      <td>2</td>\n",
       "      <td>NaN</td>\n",
       "      <td>NaN</td>\n",
       "      <td>Manhattan</td>\n",
       "      <td>45 E 89th St Apt 32A</td>\n",
       "      <td>10128</td>\n",
       "      <td>NY</td>\n",
       "      <td>2025-05-05</td>\n",
       "      <td>2679100.0</td>\n",
       "      <td>True</td>\n",
       "    </tr>\n",
       "    <tr>\n",
       "      <th>3</th>\n",
       "      <td>https://www.realtor.com/realestateandhomes-det...</td>\n",
       "      <td>2795000</td>\n",
       "      <td>2981792806</td>\n",
       "      <td>4828535004</td>\n",
       "      <td>for_sale</td>\n",
       "      <td>2</td>\n",
       "      <td>2</td>\n",
       "      <td>2.0</td>\n",
       "      <td>NaN</td>\n",
       "      <td>2</td>\n",
       "      <td>50250.0</td>\n",
       "      <td>NaN</td>\n",
       "      <td>Manhattan</td>\n",
       "      <td>45 E 89th St Apt 23A</td>\n",
       "      <td>10128</td>\n",
       "      <td>NY</td>\n",
       "      <td>2025-05-05</td>\n",
       "      <td>2022800.0</td>\n",
       "      <td>True</td>\n",
       "    </tr>\n",
       "    <tr>\n",
       "      <th>4</th>\n",
       "      <td>https://www.realtor.com/realestateandhomes-det...</td>\n",
       "      <td>6250000</td>\n",
       "      <td>2981579733</td>\n",
       "      <td>9231886045</td>\n",
       "      <td>for_sale</td>\n",
       "      <td>7</td>\n",
       "      <td>6.5</td>\n",
       "      <td>6.0</td>\n",
       "      <td>1.0</td>\n",
       "      <td>9</td>\n",
       "      <td>NaN</td>\n",
       "      <td>6395.0</td>\n",
       "      <td>New York</td>\n",
       "      <td>13 W 89th St</td>\n",
       "      <td>10024</td>\n",
       "      <td>NY</td>\n",
       "      <td>NaT</td>\n",
       "      <td>NaN</td>\n",
       "      <td>NaN</td>\n",
       "    </tr>\n",
       "  </tbody>\n",
       "</table>\n",
       "</div>"
      ],
      "text/plain": [
       "                                                 url  list_price  listing_id  \\\n",
       "0  https://www.realtor.com/realestateandhomes-det...     1999999  2977443152   \n",
       "1  https://www.realtor.com/realestateandhomes-det...     2795000  2980324265   \n",
       "2  https://www.realtor.com/realestateandhomes-det...     2695000  2981727358   \n",
       "3  https://www.realtor.com/realestateandhomes-det...     2795000  2981792806   \n",
       "4  https://www.realtor.com/realestateandhomes-det...     6250000  2981579733   \n",
       "\n",
       "  property_id    status  baths baths_consolidated  baths_full  baths_half  \\\n",
       "0  3501051119  for_sale      2                  2         2.0         NaN   \n",
       "1  4113094547  for_sale      2                  2         2.0         NaN   \n",
       "2  4665385261  for_sale      2                  2         2.0         NaN   \n",
       "3  4828535004  for_sale      2                  2         2.0         NaN   \n",
       "4  9231886045  for_sale      7                6.5         6.0         1.0   \n",
       "\n",
       "   beds  lot_sqft    sqft       city                street postal_code state  \\\n",
       "0     2       NaN  1160.0   New York   45 E 89th St Apt 7D       10128    NY   \n",
       "1     2   50250.0     NaN  Manhattan  45 E 89th St Apt 22C       10128    NY   \n",
       "2     2       NaN     NaN  Manhattan  45 E 89th St Apt 32A       10128    NY   \n",
       "3     2   50250.0     NaN  Manhattan  45 E 89th St Apt 23A       10128    NY   \n",
       "4     9       NaN  6395.0   New York          13 W 89th St       10024    NY   \n",
       "\n",
       "  estimate_date  estimate_property_value isbest_homevalue  \n",
       "0    2025-05-05                1572400.0             True  \n",
       "1    2025-05-05                1694300.0             True  \n",
       "2    2025-05-05                2679100.0             True  \n",
       "3    2025-05-05                2022800.0             True  \n",
       "4           NaT                      NaN              NaN  "
      ]
     },
     "execution_count": 125,
     "metadata": {},
     "output_type": "execute_result"
    }
   ],
   "source": [
    "# the columns are renamed to more meaningful names\n",
    "description_listing = description_listing.rename(columns={'location.address.city':'city','location.address.state_code':'state','location.address.postal_code':'postal_code','location.address.line':'street',\n",
    "                                                          'href':'url','description.baths':'baths','description.beds':'beds','description.sqft':'sqft','description.baths_consolidated':'baths_consolidated',\n",
    "                                                          'description.baths_full':'baths_full','description.baths_half':'baths_half','date':'estimate_date','estimate':'estimate_property_value','description.lot_sqft':'lot_sqft'})\n",
    "description_listing.head(5)\n"
   ]
  },
  {
   "cell_type": "code",
   "execution_count": 126,
   "metadata": {},
   "outputs": [
    {
     "data": {
      "text/html": [
       "<div>\n",
       "<style scoped>\n",
       "    .dataframe tbody tr th:only-of-type {\n",
       "        vertical-align: middle;\n",
       "    }\n",
       "\n",
       "    .dataframe tbody tr th {\n",
       "        vertical-align: top;\n",
       "    }\n",
       "\n",
       "    .dataframe thead th {\n",
       "        text-align: right;\n",
       "    }\n",
       "</style>\n",
       "<table border=\"1\" class=\"dataframe\">\n",
       "  <thead>\n",
       "    <tr style=\"text-align: right;\">\n",
       "      <th></th>\n",
       "      <th>url</th>\n",
       "      <th>list_price</th>\n",
       "      <th>listing_id</th>\n",
       "      <th>property_id</th>\n",
       "      <th>status</th>\n",
       "      <th>baths</th>\n",
       "      <th>baths_consolidated</th>\n",
       "      <th>baths_full</th>\n",
       "      <th>baths_half</th>\n",
       "      <th>beds</th>\n",
       "      <th>lot_sqft</th>\n",
       "      <th>sqft</th>\n",
       "      <th>city</th>\n",
       "      <th>street</th>\n",
       "      <th>postal_code</th>\n",
       "      <th>state</th>\n",
       "      <th>estimate_date</th>\n",
       "      <th>estimate_property_value</th>\n",
       "      <th>isbest_homevalue</th>\n",
       "      <th>estimate_v_list_price</th>\n",
       "    </tr>\n",
       "  </thead>\n",
       "  <tbody>\n",
       "    <tr>\n",
       "      <th>0</th>\n",
       "      <td>https://www.realtor.com/realestateandhomes-det...</td>\n",
       "      <td>1999999</td>\n",
       "      <td>2977443152</td>\n",
       "      <td>3501051119</td>\n",
       "      <td>for_sale</td>\n",
       "      <td>2</td>\n",
       "      <td>2</td>\n",
       "      <td>2.0</td>\n",
       "      <td>NaN</td>\n",
       "      <td>2</td>\n",
       "      <td>NaN</td>\n",
       "      <td>1160.0</td>\n",
       "      <td>New York</td>\n",
       "      <td>45 E 89th St Apt 7D</td>\n",
       "      <td>10128</td>\n",
       "      <td>NY</td>\n",
       "      <td>2025-05-05</td>\n",
       "      <td>1572400.0</td>\n",
       "      <td>True</td>\n",
       "      <td>Overpriced</td>\n",
       "    </tr>\n",
       "    <tr>\n",
       "      <th>1</th>\n",
       "      <td>https://www.realtor.com/realestateandhomes-det...</td>\n",
       "      <td>2795000</td>\n",
       "      <td>2980324265</td>\n",
       "      <td>4113094547</td>\n",
       "      <td>for_sale</td>\n",
       "      <td>2</td>\n",
       "      <td>2</td>\n",
       "      <td>2.0</td>\n",
       "      <td>NaN</td>\n",
       "      <td>2</td>\n",
       "      <td>50250.0</td>\n",
       "      <td>NaN</td>\n",
       "      <td>Manhattan</td>\n",
       "      <td>45 E 89th St Apt 22C</td>\n",
       "      <td>10128</td>\n",
       "      <td>NY</td>\n",
       "      <td>2025-05-05</td>\n",
       "      <td>1694300.0</td>\n",
       "      <td>True</td>\n",
       "      <td>Overpriced</td>\n",
       "    </tr>\n",
       "    <tr>\n",
       "      <th>2</th>\n",
       "      <td>https://www.realtor.com/realestateandhomes-det...</td>\n",
       "      <td>2695000</td>\n",
       "      <td>2981727358</td>\n",
       "      <td>4665385261</td>\n",
       "      <td>for_sale</td>\n",
       "      <td>2</td>\n",
       "      <td>2</td>\n",
       "      <td>2.0</td>\n",
       "      <td>NaN</td>\n",
       "      <td>2</td>\n",
       "      <td>NaN</td>\n",
       "      <td>NaN</td>\n",
       "      <td>Manhattan</td>\n",
       "      <td>45 E 89th St Apt 32A</td>\n",
       "      <td>10128</td>\n",
       "      <td>NY</td>\n",
       "      <td>2025-05-05</td>\n",
       "      <td>2679100.0</td>\n",
       "      <td>True</td>\n",
       "      <td>Overpriced</td>\n",
       "    </tr>\n",
       "    <tr>\n",
       "      <th>3</th>\n",
       "      <td>https://www.realtor.com/realestateandhomes-det...</td>\n",
       "      <td>2795000</td>\n",
       "      <td>2981792806</td>\n",
       "      <td>4828535004</td>\n",
       "      <td>for_sale</td>\n",
       "      <td>2</td>\n",
       "      <td>2</td>\n",
       "      <td>2.0</td>\n",
       "      <td>NaN</td>\n",
       "      <td>2</td>\n",
       "      <td>50250.0</td>\n",
       "      <td>NaN</td>\n",
       "      <td>Manhattan</td>\n",
       "      <td>45 E 89th St Apt 23A</td>\n",
       "      <td>10128</td>\n",
       "      <td>NY</td>\n",
       "      <td>2025-05-05</td>\n",
       "      <td>2022800.0</td>\n",
       "      <td>True</td>\n",
       "      <td>Overpriced</td>\n",
       "    </tr>\n",
       "    <tr>\n",
       "      <th>4</th>\n",
       "      <td>https://www.realtor.com/realestateandhomes-det...</td>\n",
       "      <td>6250000</td>\n",
       "      <td>2981579733</td>\n",
       "      <td>9231886045</td>\n",
       "      <td>for_sale</td>\n",
       "      <td>7</td>\n",
       "      <td>6.5</td>\n",
       "      <td>6.0</td>\n",
       "      <td>1.0</td>\n",
       "      <td>9</td>\n",
       "      <td>NaN</td>\n",
       "      <td>6395.0</td>\n",
       "      <td>New York</td>\n",
       "      <td>13 W 89th St</td>\n",
       "      <td>10024</td>\n",
       "      <td>NY</td>\n",
       "      <td>NaT</td>\n",
       "      <td>NaN</td>\n",
       "      <td>NaN</td>\n",
       "      <td>No Estimate</td>\n",
       "    </tr>\n",
       "  </tbody>\n",
       "</table>\n",
       "</div>"
      ],
      "text/plain": [
       "                                                 url  list_price  listing_id  \\\n",
       "0  https://www.realtor.com/realestateandhomes-det...     1999999  2977443152   \n",
       "1  https://www.realtor.com/realestateandhomes-det...     2795000  2980324265   \n",
       "2  https://www.realtor.com/realestateandhomes-det...     2695000  2981727358   \n",
       "3  https://www.realtor.com/realestateandhomes-det...     2795000  2981792806   \n",
       "4  https://www.realtor.com/realestateandhomes-det...     6250000  2981579733   \n",
       "\n",
       "  property_id    status  baths baths_consolidated  baths_full  baths_half  \\\n",
       "0  3501051119  for_sale      2                  2         2.0         NaN   \n",
       "1  4113094547  for_sale      2                  2         2.0         NaN   \n",
       "2  4665385261  for_sale      2                  2         2.0         NaN   \n",
       "3  4828535004  for_sale      2                  2         2.0         NaN   \n",
       "4  9231886045  for_sale      7                6.5         6.0         1.0   \n",
       "\n",
       "   beds  lot_sqft    sqft       city                street postal_code state  \\\n",
       "0     2       NaN  1160.0   New York   45 E 89th St Apt 7D       10128    NY   \n",
       "1     2   50250.0     NaN  Manhattan  45 E 89th St Apt 22C       10128    NY   \n",
       "2     2       NaN     NaN  Manhattan  45 E 89th St Apt 32A       10128    NY   \n",
       "3     2   50250.0     NaN  Manhattan  45 E 89th St Apt 23A       10128    NY   \n",
       "4     9       NaN  6395.0   New York          13 W 89th St       10024    NY   \n",
       "\n",
       "  estimate_date  estimate_property_value isbest_homevalue  \\\n",
       "0    2025-05-05                1572400.0             True   \n",
       "1    2025-05-05                1694300.0             True   \n",
       "2    2025-05-05                2679100.0             True   \n",
       "3    2025-05-05                2022800.0             True   \n",
       "4           NaT                      NaN              NaN   \n",
       "\n",
       "  estimate_v_list_price  \n",
       "0            Overpriced  \n",
       "1            Overpriced  \n",
       "2            Overpriced  \n",
       "3            Overpriced  \n",
       "4           No Estimate  "
      ]
     },
     "execution_count": 126,
     "metadata": {},
     "output_type": "execute_result"
    }
   ],
   "source": [
    "# estimate_v_list_price column is created to indicate whether the property is underpriced, overpriced, or has no estimate\n",
    "# it's comapare the lasted estimate_property_value with the list_price\n",
    "import numpy as np\n",
    "\n",
    "description_listing['estimate_v_list_price'] =  np.where(description_listing ['estimate_property_value'] > description_listing['list_price'], 'Underpriced',\n",
    "                                                         np.where(description_listing ['estimate_property_value'].isnull(), 'No Estimate',\n",
    "                                                                   'Overpriced'))\n",
    "# Null values are dropped from the DataFrame\n",
    "# and duplicates are removed based on the property_id column\n",
    "description_listing_DV = description_listing.dropna(subset=['sqft','baths','beds','list_price'])\n",
    "#description_listing = description_listing.drop_duplicates(subset=['property_id'])\n",
    "# the final DataFrame is printed to the console\n",
    "\n",
    "description_listing.head(5)"
   ]
  },
  {
   "cell_type": "code",
   "execution_count": 127,
   "metadata": {},
   "outputs": [
    {
     "data": {
      "text/plain": [
       "(100, 20)"
      ]
     },
     "execution_count": 127,
     "metadata": {},
     "output_type": "execute_result"
    }
   ],
   "source": [
    "description_listing.shape"
   ]
  },
  {
   "cell_type": "code",
   "execution_count": 128,
   "metadata": {},
   "outputs": [
    {
     "data": {
      "image/png": "[encoded data removed]",
      "text/plain": [
       "<Figure size 640x480 with 1 Axes>"
      ]
     },
     "metadata": {},
     "output_type": "display_data"
    },
    {
     "data": {
      "image/png": "[encoded data removed]",
      "text/plain": [
       "<Figure size 640x480 with 1 Axes>"
      ]
     },
     "metadata": {},
     "output_type": "display_data"
    },
    {
     "data": {
      "image/png": "[encoded data removed]",
      "text/plain": [
       "<Figure size 640x480 with 1 Axes>"
      ]
     },
     "metadata": {},
     "output_type": "display_data"
    }
   ],
   "source": [
    "import matplotlib.pyplot as plt\n",
    "import matplotlib.ticker as tick \n",
    "#function is created to plot scatter plots\n",
    "def plot_scatter(x, y, title, xlabel, ylabel):\n",
    "    fig, ax = plt.subplots()\n",
    "    ax.scatter(x, y, alpha=0.5)\n",
    "    coeffs = np.polyfit(x, y, 1)\n",
    "    trendline = np.poly1d(coeffs)\n",
    "    ax.plot(x, trendline(x), color='red', linewidth=2, label='Trendline')\n",
    "    ax.legend()\n",
    "    ax.set_title(title)\n",
    "    ax.set_xlabel(xlabel)\n",
    "    ax.set_ylabel(ylabel)\n",
    "    ax.yaxis.set_major_formatter(tick.FuncFormatter(lambda x, _: f'{x / 1e6:.1f}M'))\n",
    "\n",
    "    plt.show()\n",
    "\n",
    "plot_scatter(description_listing_DV['baths'], description_listing_DV['list_price'], 'Baths vs List Price', 'Baths', 'List Price')\n",
    "plot_scatter(description_listing_DV['beds'], description_listing_DV['list_price'], 'Beds vs List Price', 'Beds', 'List Price')\n",
    "plot_scatter(description_listing_DV['sqft'], description_listing_DV['list_price'], 'Sqft vs List Price', 'Sqft', 'List Price')\n",
    "\n"
   ]
  },
  {
   "cell_type": "code",
   "execution_count": 129,
   "metadata": {},
   "outputs": [
    {
     "data": {
      "image/png": "[encoded data removed]",
      "text/plain": [
       "<Figure size 640x480 with 1 Axes>"
      ]
     },
     "metadata": {},
     "output_type": "display_data"
    }
   ],
   "source": [
    "esitmate_v_list_price_count = description_listing['estimate_v_list_price'].value_counts()\n",
    "plt.pie( esitmate_v_list_price_count ,labels = esitmate_v_list_price_count.index,autopct='%1.1f%%', startangle=140)\n",
    "plt.title(\"estimate_V_list_price\")\n",
    "plt.show()"
   ]
  },
  {
   "cell_type": "code",
   "execution_count": null,
   "metadata": {},
   "outputs": [
    {
     "name": "stdout",
     "output_type": "stream",
     "text": [
      "Mean absolute error: 824701.8263806239\n",
      "R-squared Score: 0.8084452780788671\n"
     ]
    }
   ],
   "source": [
    "from sklearn.model_selection import train_test_split\n",
    "from sklearn.ensemble import RandomForestRegressor\n",
    "from sklearn.metrics import mean_absolute_error, r2_score\n",
    "#Using Bed, bath, and sqft to determine price\n",
    "X = description_listing[['baths','beds','sqft']]\n",
    "Y = description_listing['list_price']\n",
    "#split the model into test and train data set\n",
    "X_train, X_test, Y_train, Y_test = train_test_split(X,Y, test_size = .2, random_state=42)\n",
    "\n",
    "model = RandomForestRegressor()\n",
    "model.fit(X_train, Y_train)\n",
    "\n",
    "Y_pred = model.predict(X_test)\n",
    "\n",
    "# Evaluate the model\n",
    "mae = mean_absolute_error(Y_test, Y_pred)\n",
    "r2 = r2_score(Y_test, Y_pred)\n",
    "\n",
    "print(f\"Mean absolute error: {mae}\")\n",
    "print(f\"R-squared Score: {r2}\")\n"
   ]
  },
  {
   "cell_type": "code",
   "execution_count": null,
   "metadata": {},
   "outputs": [
    {
     "name": "stdout",
     "output_type": "stream",
     "text": [
      "Mean absolute error: 878952.1864006091\n",
      "R-squared Score: 0.7777807862783461\n"
     ]
    }
   ],
   "source": [
    "#so next step's are feature engieering and that would be encoding the zipcode.\n",
    "\n",
    "from sklearn.preprocessing import OneHotEncoder\n",
    "# Initialize encoder\n",
    "\n",
    "encoder = OneHotEncoder(handle_unknown='ignore', sparse_output=False)\n",
    "\n",
    "zip_encoded = encoder.fit_transform(description_listing[['postal_code']])\n",
    "zip_df = pd.DataFrame(zip_encoded, columns=encoder.get_feature_names_out(['postal_code']))\n",
    "\n",
    "zip_df.index = description_listing.index\n",
    "\n",
    "X = pd.concat([description_listing[['baths','beds','sqft']],zip_df], axis = 1)\n",
    "Y = description_listing['list_price']\n",
    "\n",
    "X_train, X_test, Y_train, Y_test = train_test_split(X,Y, test_size = .2, random_state=42)\n",
    "\n",
    "model = RandomForestRegressor()\n",
    "model.fit(X_train, Y_train)\n",
    "\n",
    "Y_pred = model.predict(X_test)\n",
    "\n",
    "# Evaluate the model\n",
    "mae = mean_absolute_error(Y_test, Y_pred)\n",
    "r2 = r2_score(Y_test, Y_pred)\n",
    "\n",
    "print(f\"Mean absolute error: {mae}\")\n",
    "print(f\"R-squared Score: {r2}\")\n"
   ]
  },
  {
   "cell_type": "code",
   "execution_count": null,
   "metadata": {},
   "outputs": [],
   "source": [
    "#Cleaning the streat address to push througha an API to get the Neighboorhood for future feature engieering\n",
    "import re\n",
    "\n",
    "#removes the appartment from the streat address\n",
    "def clean_street(address):\n",
    "    return re.sub(r'\\s?(Apt|Unit|Ph|#)\\s?\\w+', '', address, flags=re.IGNORECASE)\n",
    "\n",
    "# Apply to your DataFrame\n",
    "description_listing['clean_street'] = description_listing['street'].apply(clean_street)\n",
    "#Concatenate the clean street, city and postal code to get the full address\n",
    "description_listing['full_address'] = description_listing['clean_street'] + ', ' + description_listing['city'] + ', ' + description_listing['postal_code'].astype(str)\n"
   ]
  },
  {
   "cell_type": "code",
   "execution_count": 135,
   "metadata": {},
   "outputs": [
    {
     "data": {
      "text/plain": [
       "(100, 22)"
      ]
     },
     "execution_count": 135,
     "metadata": {},
     "output_type": "execute_result"
    }
   ],
   "source": [
    "description_listing.shape"
   ]
  }
 ],
 "metadata": {
  "kernelspec": {
   "display_name": "webscrape",
   "language": "python",
   "name": "python3"
  },
  "language_info": {
   "codemirror_mode": {
    "name": "ipython",
    "version": 3
   },
   "file_extension": ".py",
   "mimetype": "text/x-python",
   "name": "python",
   "nbconvert_exporter": "python",
   "pygments_lexer": "ipython3",
   "version": "3.13.2"
  }
 },
 "nbformat": 4,
 "nbformat_minor": 2
}
